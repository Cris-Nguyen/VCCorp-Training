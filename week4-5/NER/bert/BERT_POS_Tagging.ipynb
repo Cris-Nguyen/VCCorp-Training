{
  "nbformat": 4,
  "nbformat_minor": 0,
  "metadata": {
    "colab": {
      "name": "BERT POS Tagging.ipynb",
      "provenance": []
    },
    "kernelspec": {
      "name": "python3",
      "display_name": "Python 3"
    },
    "language_info": {
      "name": "python"
    }
  },
  "cells": [
    {
      "cell_type": "markdown",
      "metadata": {
        "id": "ydNCVrK8t5S5"
      },
      "source": [
        "# POS Tagging Using PhoBERT"
      ]
    },
    {
      "cell_type": "code",
      "metadata": {
        "colab": {
          "base_uri": "https://localhost:8080/"
        },
        "id": "mLf24OPntuOU",
        "outputId": "d0620125-80fd-4293-96dd-3b26aa35083c"
      },
      "source": [
        "from google.colab import drive\n",
        "drive.mount('/content/drive')"
      ],
      "execution_count": null,
      "outputs": [
        {
          "output_type": "stream",
          "text": [
            "Mounted at /content/drive\n"
          ],
          "name": "stdout"
        }
      ]
    },
    {
      "cell_type": "code",
      "metadata": {
        "colab": {
          "base_uri": "https://localhost:8080/"
        },
        "id": "9OxvOvwZuEA4",
        "outputId": "5197db31-3d41-4e79-9cfa-9f5072ffe41f"
      },
      "source": [
        "%cd /content/drive/MyDrive/Projects/POS Tagging/BERT"
      ],
      "execution_count": null,
      "outputs": [
        {
          "output_type": "stream",
          "text": [
            "/content/drive/MyDrive/Projects/POS Tagging/BERT\n"
          ],
          "name": "stdout"
        }
      ]
    },
    {
      "cell_type": "markdown",
      "metadata": {
        "id": "2-YRLZBjt5ZY"
      },
      "source": [
        "## Import libraries"
      ]
    },
    {
      "cell_type": "code",
      "metadata": {
        "id": "ggtLn16huEEH"
      },
      "source": [
        "!pip install transformers\n",
        "import pandas as pd\n",
        "import numpy as np\n",
        "## for plotting\n",
        "import matplotlib.pyplot as plt\n",
        "import seaborn as sns\n",
        "## for processing\n",
        "from gensim.models import KeyedVectors\n",
        "from gensim.models.wrappers import FastText\n",
        "## for deep learning\n",
        "import torch\n",
        "import torch.nn as nn\n",
        "from torch.utils.data import Dataset, DataLoader\n",
        "from torch.utils.tensorboard import SummaryWriter\n",
        "# for bert\n",
        "from transformers import AutoModel, AutoTokenizer"
      ],
      "execution_count": null,
      "outputs": []
    },
    {
      "cell_type": "code",
      "metadata": {
        "id": "3-E6n2zHyiIW"
      },
      "source": [
        "phobert = AutoModel.from_pretrained(\"vinai/phobert-base\")\n",
        "\n",
        "# For transformers v4.x+: \n",
        "tokenizer = AutoTokenizer.from_pretrained(\"vinai/phobert-base\", use_fast=False)"
      ],
      "execution_count": null,
      "outputs": []
    },
    {
      "cell_type": "code",
      "metadata": {
        "id": "364kBgnjuEHJ"
      },
      "source": [
        "# Read txt\n",
        "def read_txt(file_path):\n",
        "    with open(file_path, 'r') as f:\n",
        "        lines = f.readlines()\n",
        "    return lines\n",
        "  \n",
        "\n",
        "def format_data(text_l):\n",
        "    sent_l = []\n",
        "    for sent in text_l:\n",
        "        tuple_l = []\n",
        "        tuple_words = sent.strip('\\n').split()\n",
        "        for tup in tuple_words:\n",
        "            split = tup.split('/')\n",
        "            if len(split) < 2:\n",
        "                continue\n",
        "            split_word = '/'.join(split[:-1])\n",
        "            split_tag = split[-1]\n",
        "            \n",
        "            tuple_l.append((split_word, split_tag))\n",
        "        sent_l.append(tuple_l)\n",
        "    return sent_l"
      ],
      "execution_count": null,
      "outputs": []
    },
    {
      "cell_type": "code",
      "metadata": {
        "id": "ieH3MC8_umdO"
      },
      "source": [
        "train_text_l = read_txt('../data/train.txt')\n",
        "val_text_l = read_txt('../data/val.txt')\n",
        "test_text_l = read_txt('../data/test.txt')\n",
        "\n",
        "train_sent_l = format_data(train_text_l)\n",
        "val_sent_l = format_data(val_text_l)\n",
        "test_sent_l = format_data(test_text_l)"
      ],
      "execution_count": null,
      "outputs": []
    },
    {
      "cell_type": "code",
      "metadata": {
        "id": "XaOBnm37umty"
      },
      "source": [
        "labels_s = set()\n",
        "idx = 1\n",
        "for sent in train_sent_l:\n",
        "    for tup in sent:\n",
        "        labels_s.add(tup[1])\n",
        "labels_l = list(labels_s)\n",
        "label2idx, idx2label = {}, {}\n",
        "for i, label in enumerate(labels_l):\n",
        "    label2idx[label] = i + 1\n",
        "    idx2label[i] = label"
      ],
      "execution_count": null,
      "outputs": []
    },
    {
      "cell_type": "code",
      "metadata": {
        "id": "1ZP7qLzz4MTQ"
      },
      "source": [
        "label2idx"
      ],
      "execution_count": null,
      "outputs": []
    },
    {
      "cell_type": "code",
      "metadata": {
        "id": "oymclmkQvSqI"
      },
      "source": [
        "train_sent_l = [[tup for tup in sent if tup[1] in label2idx] for sent in train_sent_l]\n",
        "val_sent_l = [[tup for tup in sent if tup[1] in label2idx] for sent in val_sent_l]\n",
        "test_sent_l = [[tup for tup in sent if tup[1] in label2idx] for sent in test_sent_l]"
      ],
      "execution_count": null,
      "outputs": []
    },
    {
      "cell_type": "code",
      "metadata": {
        "id": "gcarSzhlvXhx"
      },
      "source": [
        "train_text_l = [[tup[0] for tup in sent] for sent in train_sent_l]\n",
        "val_text_l = [[tup[0] for tup in sent] for sent in val_sent_l]\n",
        "test_text_l = [[tup[0] for tup in sent] for sent in test_sent_l]"
      ],
      "execution_count": null,
      "outputs": []
    },
    {
      "cell_type": "code",
      "metadata": {
        "id": "TZg_9zW_vSsy"
      },
      "source": [
        "train_label_l = [[label2idx[tup[1]] for tup in sent] for sent in train_sent_l]\n",
        "val_label_l = [[label2idx[tup[1]] for tup in sent] for sent in val_sent_l]\n",
        "test_label_l = [[label2idx[tup[1]] for tup in sent] for sent in test_sent_l]"
      ],
      "execution_count": null,
      "outputs": []
    },
    {
      "cell_type": "code",
      "metadata": {
        "id": "5LMNK8xivf8d"
      },
      "source": [
        "print(train_sent_l[0], val_sent_l[0], test_sent_l[0])\n",
        "print(train_text_l[0], val_text_l[0], test_text_l[0])\n",
        "print(train_label_l[0], val_label_l[0], test_label_l[0])"
      ],
      "execution_count": null,
      "outputs": []
    },
    {
      "cell_type": "markdown",
      "metadata": {
        "id": "-TLbggMSt5es"
      },
      "source": [
        "## EDA"
      ]
    },
    {
      "cell_type": "code",
      "metadata": {
        "id": "4LpU7KWAwBRR"
      },
      "source": [
        "train_number_words = [len(sent) for sent in train_text_l]\n",
        "val_number_words = [len(sent) for sent in val_text_l]\n",
        "test_number_words = [len(sent) for sent in test_text_l]"
      ],
      "execution_count": null,
      "outputs": []
    },
    {
      "cell_type": "code",
      "metadata": {
        "id": "pBv0NkLBwBUg"
      },
      "source": [
        "max(train_number_words), max(val_number_words), max(test_number_words)"
      ],
      "execution_count": null,
      "outputs": []
    },
    {
      "cell_type": "code",
      "metadata": {
        "colab": {
          "base_uri": "https://localhost:8080/",
          "height": 639
        },
        "id": "9ld-FeHmwBb3",
        "outputId": "b2108524-7726-4a1e-fd51-86be617f4c20"
      },
      "source": [
        "sns.set(rc={'figure.figsize':(11.7,8.27)})\n",
        "sns.distplot(train_number_words, hist=True, label='train')\n",
        "sns.distplot(val_number_words, hist=True, label='test')\n",
        "sns.distplot(test_number_words, hist=True, label='test')"
      ],
      "execution_count": null,
      "outputs": [
        {
          "output_type": "stream",
          "text": [
            "/usr/local/lib/python3.7/dist-packages/seaborn/distributions.py:2557: FutureWarning: `distplot` is a deprecated function and will be removed in a future version. Please adapt your code to use either `displot` (a figure-level function with similar flexibility) or `histplot` (an axes-level function for histograms).\n",
            "  warnings.warn(msg, FutureWarning)\n",
            "/usr/local/lib/python3.7/dist-packages/seaborn/distributions.py:2557: FutureWarning: `distplot` is a deprecated function and will be removed in a future version. Please adapt your code to use either `displot` (a figure-level function with similar flexibility) or `histplot` (an axes-level function for histograms).\n",
            "  warnings.warn(msg, FutureWarning)\n",
            "/usr/local/lib/python3.7/dist-packages/seaborn/distributions.py:2557: FutureWarning: `distplot` is a deprecated function and will be removed in a future version. Please adapt your code to use either `displot` (a figure-level function with similar flexibility) or `histplot` (an axes-level function for histograms).\n",
            "  warnings.warn(msg, FutureWarning)\n"
          ],
          "name": "stderr"
        },
        {
          "output_type": "execute_result",
          "data": {
            "text/plain": [
              "<matplotlib.axes._subplots.AxesSubplot at 0x7f1daa2a6cd0>"
            ]
          },
          "metadata": {
            "tags": []
          },
          "execution_count": 29
        },
        {
          "output_type": "display_data",
          "data": {
            "image/png": "[encoded data removed]",
            "text/plain": [
              "<Figure size 842.4x595.44 with 1 Axes>"
            ]
          },
          "metadata": {
            "tags": []
          }
        }
      ]
    },
    {
      "cell_type": "markdown",
      "metadata": {
        "id": "WgTZs3tvt5hi"
      },
      "source": [
        "## Encode text"
      ]
    },
    {
      "cell_type": "code",
      "metadata": {
        "id": "0j_w5nbswqi0"
      },
      "source": [
        "def encode_sentence(text, maxlen):\n",
        "    l = len(text)\n",
        "    text.insert(0, '<s>')\n",
        "    text.append('</s>')\n",
        "    encoded = np.zeros((maxlen, 768))\n",
        "    \n",
        "    input_ids = tokenizer.convert_tokens_to_ids(text)\n",
        "    input_ids = torch.tensor([input_ids])\n",
        "    with torch.no_grad():\n",
        "        features = phobert(input_ids)[0].reshape(l + 2, 768)\n",
        "    \n",
        "    for i in range(l):\n",
        "        encoded[i] = features[i + 1]\n",
        "\n",
        "    return encoded\n",
        "\n",
        "\n",
        "def encode_label(label, maxlen):\n",
        "    encoded = np.zeros(maxlen, dtype=int)\n",
        "    length = len(label)\n",
        "    encoded[:length] = label\n",
        "    return encoded"
      ],
      "execution_count": null,
      "outputs": []
    },
    {
      "cell_type": "code",
      "metadata": {
        "id": "nznqd601wqlq"
      },
      "source": [
        "X_train_lengths = [len(text) for text in train_text_l]\n",
        "X_val_lengths = [len(text) for text in val_text_l]\n",
        "X_test_lengths = [len(text) for text in test_text_l]\n",
        "\n",
        "y_train_lengths = [len(label) for label in train_label_l]\n",
        "y_val_lengths = [len(label) for label in val_label_l]\n",
        "y_test_lengths = [len(label) for label in test_label_l]"
      ],
      "execution_count": null,
      "outputs": []
    },
    {
      "cell_type": "code",
      "metadata": {
        "id": "GGx6SSJ8wqo4"
      },
      "source": [
        "X_train = [encode_sentence(text, 130) for text in train_text_l]\n",
        "X_val = [encode_sentence(text, 130) for text in val_text_l]\n",
        "X_test = [encode_sentence(text, 130) for text in test_text_l]\n",
        "\n",
        "y_train = [encode_label(label, 130) for label in train_label_l]\n",
        "y_val = [encode_label(label, 130) for label in val_label_l]\n",
        "y_test = [encode_label(label, 130) for label in test_label_l]"
      ],
      "execution_count": null,
      "outputs": []
    },
    {
      "cell_type": "markdown",
      "metadata": {
        "id": "ieYfoEZxt5ky"
      },
      "source": [
        "## Dataset and Dataloader"
      ]
    },
    {
      "cell_type": "code",
      "metadata": {
        "id": "TXd6oua1HYYo"
      },
      "source": [
        "class TextDataset(Dataset):\n",
        "    def __init__(self, X, Y):\n",
        "        self.X = X\n",
        "        self.y = Y\n",
        "        \n",
        "    def __len__(self):\n",
        "        return len(self.y)\n",
        "    \n",
        "    def __getitem__(self, idx):\n",
        "        return torch.from_numpy(self.X[idx].astype(np.float64)), torch.from_numpy(self.y[idx].astype(np.long))"
      ],
      "execution_count": null,
      "outputs": []
    },
    {
      "cell_type": "code",
      "metadata": {
        "id": "Vm6EX5M5HYdO"
      },
      "source": [
        "train_ds = TextDataset(X_train, y_train)\n",
        "dev_ds = TextDataset(X_val, y_val)\n",
        "test_ds = TextDataset(X_test, y_test)\n",
        "\n",
        "train_loader = DataLoader(train_ds, batch_size=128, shuffle=True)\n",
        "dev_loader = DataLoader(dev_ds, batch_size=1, shuffle=False)\n",
        "test_loader = DataLoader(test_ds, batch_size=1, shuffle=False)"
      ],
      "execution_count": null,
      "outputs": []
    },
    {
      "cell_type": "markdown",
      "metadata": {
        "id": "VyXSP2aTt5n3"
      },
      "source": [
        "## Model"
      ]
    },
    {
      "cell_type": "code",
      "metadata": {
        "id": "7IvbIgGbHwWw"
      },
      "source": [
        "class LinearClassifier(nn.Module):\n",
        "\n",
        "    def __init__(self, input_dim, output_dim):\n",
        "        super().__init__()\n",
        "        self.fc = nn.Linear(input_dim, output_dim)\n",
        "        self.softmax = nn.Softmax(dim=1)\n",
        "      \n",
        "    def forward(self, x):\n",
        "        linear = self.fc(x).permute(0, 2, 1)\n",
        "        output = self.softmax(linear)\n",
        "        return output"
      ],
      "execution_count": null,
      "outputs": []
    },
    {
      "cell_type": "markdown",
      "metadata": {
        "id": "3OluYFfUt5tP"
      },
      "source": [
        "## Checkpoint"
      ]
    },
    {
      "cell_type": "code",
      "metadata": {
        "id": "xIqduN3IU_6G"
      },
      "source": [
        "def save_checkpoint(save_path, model, optimizer, valid_loss):\n",
        "\n",
        "    if save_path == None:\n",
        "        return\n",
        "    \n",
        "    state_dict = {'model_state_dict': model.state_dict(),\n",
        "                  'optimizer_state_dict': optimizer.state_dict(),\n",
        "                  'valid_loss': valid_loss}\n",
        "    \n",
        "    torch.save(state_dict, save_path)\n",
        "    print(f'Model saved to ==> {save_path}')"
      ],
      "execution_count": null,
      "outputs": []
    },
    {
      "cell_type": "markdown",
      "metadata": {
        "id": "dIwQfszQt5qk"
      },
      "source": [
        "## Train model"
      ]
    },
    {
      "cell_type": "code",
      "metadata": {
        "colab": {
          "base_uri": "https://localhost:8080/"
        },
        "id": "25bEeLuELqZG",
        "outputId": "57bef857-4e82-4ec6-89a0-9fc1557355d7"
      },
      "source": [
        "# Training Function\n",
        "device = 'cuda:0' if torch.cuda.is_available() else 'cpu'\n",
        "print(f'Device {device}')\n",
        "writer = SummaryWriter('logs')\n",
        "\n",
        "def train(model,\n",
        "          optimizer,\n",
        "          criterion = nn.CrossEntropyLoss(ignore_index=0),\n",
        "          train_loader = train_loader,\n",
        "          dev_loader = dev_loader,\n",
        "          num_epochs = 1000,\n",
        "          file_path = 'pretrained_model/model_lstm_word2vec.pt'\n",
        "          ):\n",
        "    \n",
        "    # initialize running values\n",
        "    best_dev_loss = float(\"Inf\")\n",
        "    train_running_loss = 0.0\n",
        "    dev_running_loss = 0.0\n",
        "    train_loss_list = []\n",
        "    dev_loss_list = []\n",
        "\n",
        "    # training loop\n",
        "    model.train()\n",
        "    for epoch in range(num_epochs):\n",
        "        print(f'Training epochs {epoch + 1}/{num_epochs}')\n",
        "        for i, (features, labels) in enumerate(train_loader):\n",
        "            features = features.to(device)          \n",
        "            labels = labels.to(device)\n",
        "            output = model(features)\n",
        "            loss = criterion(output, labels)\n",
        "            optimizer.zero_grad()\n",
        "            loss.backward()\n",
        "            optimizer.step()\n",
        "\n",
        "            # update running values\n",
        "            # running_loss += loss.item()\n",
        "\n",
        "        # evaluation step\n",
        "\n",
        "        model.eval()\n",
        "        train_correct, train_total, dev_correct, dev_total = 0, 0, 0, 0\n",
        "        with torch.no_grad():                    \n",
        "        # devation loop\n",
        "          \n",
        "          for features, labels in train_loader:\n",
        "              features = features.to(device)\n",
        "              labels = labels.to(device)\n",
        "              output = model(features)\n",
        "              loss = criterion(output, labels)\n",
        "              train_running_loss += loss.item()\n",
        "\n",
        "              _, predicted = torch.max(output.data, 1)\n",
        "              train_total += labels.size(0) * labels.size(1)\n",
        "              train_correct += (predicted == labels).sum().item()\n",
        "          \n",
        "          for features, labels in dev_loader:\n",
        "              features = features.to(device) \n",
        "              labels = labels.to(device)\n",
        "              output = model(features)\n",
        "\n",
        "              loss = criterion(output, labels)\n",
        "              dev_running_loss += loss.item()\n",
        "\n",
        "              _, predicted = torch.max(output.data, 1)\n",
        "              dev_total += labels.size(0) * labels.size(1)\n",
        "              print(labels)\n",
        "              dev_correct += (predicted == labels).sum().item()\n",
        "\n",
        "        print(f'Epoch [{epoch + 1}/{num_epochs}] Train Loss: {train_running_loss} Dev Loss: {dev_running_loss} Train acc: {round(train_correct / train_total, 2)} Dev acc: {round(dev_correct/dev_total, 2)}')\n",
        "        print(f'Epoch [{epoch + 1}/{num_epochs}] Train Loss: {train_running_loss} Dev Loss: {dev_running_loss} Train acc: {round(train_correct / train_total, 2)} Dev acc: {round(dev_correct/dev_total, 2)}')\n",
        "        writer.add_scalar('Loss/train', train_running_loss, epoch)\n",
        "        writer.add_scalar('Loss/dev', dev_running_loss, epoch)\n",
        "        writer.add_scalar('Accuracy/train', round(train_correct / train_total, 2), epoch)\n",
        "        writer.add_scalar('Accuracy/test', round(dev_correct/dev_total, 2), epoch)\n",
        "\n",
        "        # evaluation\n",
        "        train_loss_list.append(train_running_loss)\n",
        "        dev_loss_list.append(dev_running_loss)\n",
        "\n",
        "        # resetting running values\n",
        "        \n",
        "                  \n",
        "        # checkpoint\n",
        "        if best_dev_loss > dev_running_loss:\n",
        "            best_dev_loss = dev_running_loss\n",
        "            save_checkpoint(file_path, model, optimizer, best_dev_loss)\n",
        "    \n",
        "        train_running_loss = 0.0                \n",
        "        dev_running_loss = 0.0\n",
        "        model.train()\n",
        "    writer.close()\n",
        "    print('Finished Training!')"
      ],
      "execution_count": null,
      "outputs": [
        {
          "output_type": "stream",
          "text": [
            "Device cpu\n"
          ],
          "name": "stdout"
        }
      ]
    },
    {
      "cell_type": "code",
      "metadata": {
        "id": "2BEK8aC-Cv5D"
      },
      "source": [
        "model = LinearClassifier(768, len(label2idx) + 1).double().to(device)\n",
        "optimizer = torch.optim.Adam(model.parameters(), lr=0.001)\n",
        "\n",
        "train(model=model, optimizer=optimizer, num_epochs=500, file_path = 'pretrained_model/bert.pt')"
      ],
      "execution_count": null,
      "outputs": []
    }
  ]
}