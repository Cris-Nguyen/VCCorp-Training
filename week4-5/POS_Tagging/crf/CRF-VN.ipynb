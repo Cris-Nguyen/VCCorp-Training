{
 "cells": [
  {
   "cell_type": "markdown",
   "metadata": {},
   "source": [
    "# POS Tagging Using CRF"
   ]
  },
  {
   "cell_type": "markdown",
   "metadata": {},
   "source": [
    "## Import libraries"
   ]
  },
  {
   "cell_type": "code",
   "execution_count": 1,
   "metadata": {},
   "outputs": [],
   "source": [
    "import pandas as pd       \n",
    "import nltk\n",
    "import sklearn\n",
    "import sklearn_crfsuite\n",
    "import scipy.stats\n",
    "import math, string, re\n",
    "\n",
    "from sklearn.metrics import make_scorer\n",
    "from sklearn.metrics import accuracy_score\n",
    "from sklearn.model_selection import cross_val_score\n",
    "from sklearn.model_selection import RandomizedSearchCV\n",
    "from sklearn_crfsuite import scorers\n",
    "from sklearn_crfsuite import metrics\n",
    "from itertools import chain\n",
    "from sklearn.preprocessing import MultiLabelBinarizer"
   ]
  },
  {
   "cell_type": "markdown",
   "metadata": {},
   "source": [
    "## Load and format data"
   ]
  },
  {
   "cell_type": "code",
   "execution_count": 17,
   "metadata": {},
   "outputs": [],
   "source": [
    "def read_txt(file_path):\n",
    "    with open(file_path, 'r') as f:\n",
    "        lines = f.readlines()\n",
    "    return lines\n",
    "\n",
    "\n",
    "def format_data(text_l):\n",
    "    sent_l = []\n",
    "    for sent in text_l:\n",
    "        tuple_l = []\n",
    "        tuple_words = sent.strip('\\n').split()\n",
    "        for tup in tuple_words:\n",
    "            split = tup.split('/')\n",
    "            if len(split) < 2:\n",
    "                continue\n",
    "            split_word = '/'.join(split[:-1])\n",
    "            split_tag = split[-1]\n",
    "            \n",
    "            tuple_l.append((split_word, split_tag))\n",
    "        sent_l.append(tuple_l)\n",
    "    return sent_l"
   ]
  },
  {
   "cell_type": "code",
   "execution_count": 18,
   "metadata": {},
   "outputs": [],
   "source": [
    "train_text_l = read_txt('../../processed_data/train.txt')\n",
    "test_text_l = read_txt('../../processed_data/test.txt')\n",
    "\n",
    "train_sent_l = format_data(train_text_l)\n",
    "test_sent_l = format_data(test_text_l)"
   ]
  },
  {
   "cell_type": "code",
   "execution_count": 19,
   "metadata": {},
   "outputs": [
    {
     "data": {
      "text/plain": [
       "[('Con', 'Nc'),\n",
       " ('đường', 'N'),\n",
       " ('thoát', 'V'),\n",
       " ('nghèo', 'A'),\n",
       " ('từ', 'E'),\n",
       " ('biển', 'N')]"
      ]
     },
     "execution_count": 19,
     "metadata": {},
     "output_type": "execute_result"
    }
   ],
   "source": [
    "train_sent_l[2]"
   ]
  },
  {
   "cell_type": "markdown",
   "metadata": {},
   "source": [
    "## Feature define\n",
    "1. The word\n",
    "2. The word in lowercase\n",
    "3. Length of the word\n",
    "4. Prefixes and suffixes of the word of varying lengths\n",
    "5. If the word is a digit\n",
    "6. If the word is a punctuation mark\n",
    "7. If the word is at the beginning of the sentence (BOS) or the end of the sentence (EOS) or neither\n",
    "8. Features for the previous words, the following words"
   ]
  },
  {
   "cell_type": "code",
   "execution_count": 20,
   "metadata": {},
   "outputs": [],
   "source": [
    "def word2features(sent, i):\n",
    "    word = sent[i][0]\n",
    "    features = {\n",
    "        'bias': 1.0,\n",
    "        'word': word,\n",
    "        'len(word)': len(word),\n",
    "        'word[:4]': word[:4],\n",
    "        'word[:3]': word[:3],\n",
    "        'word[:2]': word[:2],\n",
    "        'word[-3:]': word[-3:],\n",
    "        'word[-2:]': word[-2:],\n",
    "        'word[-4:]': word[-4:],\n",
    "        'word.lower()': word.lower(),\n",
    "        'word.ispunctuation': (word in string.punctuation),\n",
    "        'word.isdigit()': word.isdigit(),\n",
    "    }\n",
    "    \n",
    "    if i > 0:\n",
    "        word1 = sent[i-1][0]\n",
    "        features.update({\n",
    "            '-1:word': word1,\n",
    "            '-1:len(word)': len(word1),\n",
    "            '-1:word.lower()': word1.lower(),\n",
    "            '-1:word[:3]': word1[:3],\n",
    "            '-1:word[:2]': word1[:2],\n",
    "            '-1:word[-3:]': word1[-3:],\n",
    "            '-1:word[-2:]': word1[-2:],\n",
    "            '-1:word.isdigit()': word1.isdigit(),\n",
    "            '-1:word.ispunctuation': (word1 in string.punctuation),\n",
    "        })\n",
    "    else:\n",
    "        features['SOS'] = True\n",
    "    \n",
    "    if i > 1:\n",
    "        word2 = sent[i-2][0]\n",
    "        features.update({\n",
    "            '-2:word': word2,\n",
    "            '-2:len(word)': len(word2),\n",
    "            '-2:word.lower()': word2.lower(),\n",
    "            '-2:word[:3]': word2[:3],\n",
    "            '-2:word[:2]': word2[:2],\n",
    "            '-2:word[-3:]': word2[-3:],\n",
    "            '-2:word[-2:]': word2[-2:],\n",
    "            '-2:word.isdigit()': word2.isdigit(),\n",
    "            '-2:word.ispunctuation': (word2 in string.punctuation),\n",
    "        })\n",
    "\n",
    "    if i < len(sent)-1:\n",
    "        word1 = sent[i+1][0]\n",
    "        features.update({\n",
    "            '+1:word': word1,\n",
    "            '+1:len(word)': len(word1),\n",
    "            '+1:word.lower()': word1.lower(),\n",
    "            '+1:word[:3]': word1[:3],\n",
    "            '+1:word[:2]': word1[:2],\n",
    "            '+1:word[-3:]': word1[-3:],\n",
    "            '+1:word[-2:]': word1[-2:],\n",
    "            '+1:word.isdigit()': word1.isdigit(),\n",
    "            '+1:word.ispunctuation': (word1 in string.punctuation),\n",
    "        })\n",
    "    else:\n",
    "        features['EOS'] = True\n",
    "    \n",
    "    if i < len(sent) - 2:\n",
    "        word2 = sent[i+2][0]\n",
    "        features.update({\n",
    "            '+2:word': word2,\n",
    "            '+2:len(word)': len(word2),\n",
    "            '+2:word.lower()': word2.lower(),\n",
    "            '+2:word[:3]': word2[:3],\n",
    "            '+2:word[:2]': word2[:2],\n",
    "            '+2:word[-3:]': word2[-3:],\n",
    "            '+2:word[-2:]': word2[-2:],\n",
    "            '+2:word.isdigit()': word2.isdigit(),\n",
    "            '+2:word.ispunctuation': (word2 in string.punctuation),\n",
    "        })\n",
    "    \n",
    "    return features\n",
    "\n",
    "def sent2features(sent):\n",
    "    return [word2features(sent, i) for i in range(len(sent))]\n",
    "\n",
    "def sent2labels(sent):\n",
    "    return [word[1] for word in sent]\n",
    "\n",
    "def sent2words(sent):\n",
    "    return [word[0] for word in sent]"
   ]
  },
  {
   "cell_type": "code",
   "execution_count": 21,
   "metadata": {},
   "outputs": [],
   "source": [
    "# Extracting features\n",
    "X_train = [sent2features(s) for s in train_sent_l]\n",
    "y_train = [sent2labels(s) for s in train_sent_l]\n",
    "\n",
    "X_test = [sent2features(s) for s in test_sent_l]\n",
    "y_test = [sent2labels(s) for s in test_sent_l]"
   ]
  },
  {
   "cell_type": "markdown",
   "metadata": {},
   "source": [
    "## Model and train"
   ]
  },
  {
   "cell_type": "code",
   "execution_count": 22,
   "metadata": {},
   "outputs": [],
   "source": [
    "# Define model\n",
    "crf = sklearn_crfsuite.CRF(\n",
    "    algorithm = 'lbfgs',\n",
    "    c1 = 0.25,\n",
    "    c2 = 0.3,\n",
    "    max_iterations = 100,\n",
    "    all_possible_transitions=True\n",
    ")"
   ]
  },
  {
   "cell_type": "code",
   "execution_count": 23,
   "metadata": {},
   "outputs": [
    {
     "name": "stdout",
     "output_type": "stream",
     "text": [
      "2281\n"
     ]
    },
    {
     "data": {
      "text/plain": [
       "CRF(algorithm='lbfgs', all_possible_states=None, all_possible_transitions=True,\n",
       "    averaging=None, c=None, c1=0.25, c2=0.3, calibration_candidates=None,\n",
       "    calibration_eta=None, calibration_max_trials=None, calibration_rate=None,\n",
       "    calibration_samples=None, delta=None, epsilon=None, error_sensitive=None,\n",
       "    gamma=None, keep_tempfiles=None, linesearch=None, max_iterations=100,\n",
       "    max_linesearch=None, min_freq=None, model_filename=None, num_memories=None,\n",
       "    pa_type=None, period=None, trainer_cls=None, variance=None, verbose=False)"
      ]
     },
     "execution_count": 23,
     "metadata": {},
     "output_type": "execute_result"
    }
   ],
   "source": [
    "# Train model\n",
    "crf.fit(X_train, y_train)"
   ]
  },
  {
   "cell_type": "code",
   "execution_count": 24,
   "metadata": {},
   "outputs": [
    {
     "data": {
      "text/plain": [
       "['M',\n",
       " ':',\n",
       " 'N',\n",
       " '(',\n",
       " ')',\n",
       " 'Nc',\n",
       " 'V',\n",
       " 'A',\n",
       " 'E',\n",
       " 'Np',\n",
       " ',',\n",
       " 'R',\n",
       " 'P',\n",
       " 'X',\n",
       " '.',\n",
       " '-',\n",
       " '&',\n",
       " '...',\n",
       " 'C',\n",
       " 'L',\n",
       " '',\n",
       " 'Nu',\n",
       " 'T',\n",
       " 'Ny',\n",
       " 'Y',\n",
       " 'm',\n",
       " '?',\n",
       " '!',\n",
       " '*',\n",
       " ';',\n",
       " 'Nb',\n",
       " '------',\n",
       " 'S',\n",
       " '\"',\n",
       " 'Vb',\n",
       " 'I',\n",
       " 'B',\n",
       " 'v',\n",
       " '>',\n",
       " '--------',\n",
       " '.)',\n",
       " '~',\n",
       " '?]',\n",
       " ']',\n",
       " '):',\n",
       " 'oOo',\n",
       " '+',\n",
       " 'p',\n",
       " '-8',\n",
       " '----------',\n",
       " '----------------',\n",
       " 'Ap',\n",
       " '---------',\n",
       " 'Vy',\n",
       " 'Ab']"
      ]
     },
     "execution_count": 24,
     "metadata": {},
     "output_type": "execute_result"
    }
   ],
   "source": [
    "labels = list(crf.classes_)\n",
    "labels"
   ]
  },
  {
   "cell_type": "code",
   "execution_count": 25,
   "metadata": {},
   "outputs": [
    {
     "name": "stdout",
     "output_type": "stream",
     "text": [
      "F1 score on the train set = 0.9511929983581714\n",
      "\n",
      "Accuracy on the train set = 0.939408614402917\n",
      "\n",
      "                  precision    recall  f1-score   support\n",
      "\n",
      "                       0.97      0.96      0.96        92\n",
      "               !       1.00      1.00      1.00       454\n",
      "               \"       1.00      1.00      1.00       194\n",
      "               &       0.97      1.00      0.98        28\n",
      "               (       1.00      1.00      1.00       578\n",
      "               )       1.00      1.00      1.00       577\n",
      "              ):       1.00      1.00      1.00         1\n",
      "               *       0.91      1.00      0.95        20\n",
      "               +       1.00      1.00      1.00         1\n",
      "               ,       1.00      1.00      1.00      9457\n",
      "               -       1.00      1.00      1.00      1260\n",
      "          ------       0.00      0.00      0.00         1\n",
      "        --------       0.00      0.00      0.00         1\n",
      "       ---------       0.00      0.00      0.00         1\n",
      "      ----------       0.00      0.00      0.00         1\n",
      "----------------       0.00      0.00      0.00         2\n",
      "              -8       1.00      1.00      1.00         1\n",
      "               .       1.00      1.00      1.00      6718\n",
      "              .)       1.00      1.00      1.00         1\n",
      "             ...       1.00      1.00      1.00      1128\n",
      "               :       1.00      1.00      1.00      1229\n",
      "               ;       1.00      1.00      1.00        79\n",
      "               >       1.00      1.00      1.00        16\n",
      "               ?       1.00      1.00      1.00       311\n",
      "              ?]       1.00      1.00      1.00         1\n",
      "               A       0.93      0.92      0.92     10833\n",
      "              Ab       1.00      1.00      1.00         1\n",
      "              Ap       0.50      1.00      0.67         1\n",
      "               B       1.00      0.75      0.86        16\n",
      "               C       0.84      0.96      0.90      6210\n",
      "               E       0.94      0.97      0.96     10620\n",
      "              Eb       0.00      0.00      0.00         3\n",
      "               H       0.00      0.00      0.00         1\n",
      "               I       0.89      0.36      0.52        88\n",
      "               L       0.99      0.99      0.99      3120\n",
      "               M       0.99      0.99      0.99      6749\n",
      "              Mb       0.00      0.00      0.00         1\n",
      "               N       0.94      0.97      0.95     41573\n",
      "              NC       0.00      0.00      0.00         1\n",
      "              NY       0.00      0.00      0.00         1\n",
      "              Nb       0.95      0.75      0.83       280\n",
      "              Nc       0.85      0.91      0.88      4513\n",
      "              Np       0.97      0.97      0.97      6901\n",
      "              Nu       0.93      0.96      0.94       844\n",
      "              Ny       0.89      0.91      0.90       943\n",
      "               P       0.97      0.99      0.98      7463\n",
      "               R       0.96      0.94      0.95     12756\n",
      "               S       0.94      0.88      0.91       130\n",
      "               T       0.73      0.73      0.73      1126\n",
      "               V       0.91      0.96      0.94     34128\n",
      "              Vb       1.00      0.40      0.57        20\n",
      "              Vy       1.00      0.83      0.91         6\n",
      "               X       0.91      0.81      0.86       677\n",
      "               Y       0.86      0.49      0.62        39\n",
      "               ]       1.00      1.00      1.00         9\n",
      "               m       0.00      0.00      0.00         1\n",
      "             oOo       1.00      1.00      1.00         1\n",
      "               p       0.00      0.00      0.00         1\n",
      "               v       0.00      0.00      0.00         1\n",
      "               ~       1.00      1.00      1.00         1\n",
      "               ’       0.00      0.00      0.00         2\n",
      "               “       0.00      0.00      0.00      2147\n",
      "               ”       0.00      0.00      0.00      2132\n",
      "               …       0.00      0.00      0.00        29\n",
      "\n",
      "        accuracy                           0.94    175520\n",
      "       macro avg       0.70      0.68      0.68    175520\n",
      "    weighted avg       0.92      0.94      0.93    175520\n",
      "\n"
     ]
    }
   ],
   "source": [
    "y_pred = crf.predict(X_train)\n",
    "print('F1 score on the train set = {}\\n'.format(metrics.flat_f1_score(y_train, y_pred, average='weighted', labels=labels)))\n",
    "print('Accuracy on the train set = {}\\n'.format(metrics.flat_accuracy_score(y_train, y_pred)))\n",
    "\n",
    "print(metrics.flat_classification_report(y_train, y_pred))"
   ]
  },
  {
   "cell_type": "code",
   "execution_count": 26,
   "metadata": {},
   "outputs": [
    {
     "name": "stdout",
     "output_type": "stream",
     "text": [
      "F1 score on the test set = 0.8922032552016578\n",
      "\n",
      "Accuracy on the test set = 0.8840114947315814\n",
      "\n",
      "                  precision    recall  f1-score   support\n",
      "\n",
      "               M       0.98      0.95      0.96       869\n",
      "               :       1.00      1.00      1.00       138\n",
      "               N       0.88      0.91      0.89      5704\n",
      "               (       1.00      1.00      1.00        81\n",
      "               )       1.00      1.00      1.00        82\n",
      "              Nc       0.78      0.78      0.78       560\n",
      "               V       0.83      0.90      0.87      4836\n",
      "               A       0.81      0.78      0.80      1391\n",
      "               E       0.90      0.94      0.92      1501\n",
      "              Np       0.90      0.84      0.87       924\n",
      "               ,       1.00      1.00      1.00      1285\n",
      "               R       0.89      0.89      0.89      1792\n",
      "               P       0.95      0.98      0.96       963\n",
      "               X       0.72      0.61      0.66        82\n",
      "               .       1.00      1.00      1.00       803\n",
      "               -       1.00      1.00      1.00       180\n",
      "               &       1.00      1.00      1.00         5\n",
      "             ...       1.00      1.00      1.00       166\n",
      "               C       0.83      0.90      0.86       903\n",
      "               L       0.99      0.95      0.97       433\n",
      "                       1.00      0.92      0.96        12\n",
      "              Nu       0.83      0.86      0.84       135\n",
      "               T       0.62      0.54      0.58       147\n",
      "              Ny       0.75      0.73      0.74       137\n",
      "               Y       0.00      0.00      0.00         8\n",
      "               m       0.00      0.00      0.00         0\n",
      "               ?       1.00      1.00      1.00        48\n",
      "               !       1.00      1.00      1.00        65\n",
      "               *       1.00      1.00      1.00        20\n",
      "               ;       1.00      1.00      1.00        21\n",
      "              Nb       0.43      0.05      0.09        58\n",
      "          ------       0.00      0.00      0.00         0\n",
      "               S       0.88      0.65      0.75        23\n",
      "               \"       1.00      0.99      0.99        95\n",
      "              Vb       0.00      0.00      0.00         5\n",
      "               I       0.50      0.17      0.25         6\n",
      "               B       0.00      0.00      0.00         8\n",
      "               v       0.00      0.00      0.00         0\n",
      "               >       1.00      1.00      1.00         2\n",
      "        --------       0.00      0.00      0.00         1\n",
      "              .)       0.00      0.00      0.00         0\n",
      "               ~       0.00      0.00      0.00         0\n",
      "              ?]       0.00      0.00      0.00         0\n",
      "               ]       1.00      1.00      1.00         1\n",
      "              ):       0.00      0.00      0.00         0\n",
      "             oOo       0.00      0.00      0.00         0\n",
      "               +       0.00      0.00      0.00         0\n",
      "               p       0.00      0.00      0.00         0\n",
      "              -8       0.00      0.00      0.00         0\n",
      "      ----------       0.00      0.00      0.00         0\n",
      "----------------       0.00      0.00      0.00         0\n",
      "              Ap       0.00      0.00      0.00         0\n",
      "       ---------       0.00      0.00      0.00         0\n",
      "              Vy       0.00      0.00      0.00         0\n",
      "              Ab       0.00      0.00      0.00         2\n",
      "\n",
      "       micro avg       0.88      0.90      0.89     23492\n",
      "       macro avg       0.55      0.53      0.54     23492\n",
      "    weighted avg       0.88      0.90      0.89     23492\n",
      "\n"
     ]
    }
   ],
   "source": [
    "y_pred = crf.predict(X_test)\n",
    "print('F1 score on the test set = {}\\n'.format(metrics.flat_f1_score(y_test, y_pred, average='weighted', labels=labels)))\n",
    "print('Accuracy on the test set = {}\\n'.format(metrics.flat_accuracy_score(y_test, y_pred)))\n",
    "\n",
    "print(metrics.flat_classification_report(y_test, y_pred, labels=labels))"
   ]
  },
  {
   "cell_type": "code",
   "execution_count": null,
   "metadata": {},
   "outputs": [],
   "source": []
  }
 ],
 "metadata": {
  "kernelspec": {
   "display_name": "Python 3",
   "language": "python",
   "name": "python3"
  },
  "language_info": {
   "codemirror_mode": {
    "name": "ipython",
    "version": 3
   },
   "file_extension": ".py",
   "mimetype": "text/x-python",
   "name": "python",
   "nbconvert_exporter": "python",
   "pygments_lexer": "ipython3",
   "version": "3.7.9"
  }
 },
 "nbformat": 4,
 "nbformat_minor": 2
}
